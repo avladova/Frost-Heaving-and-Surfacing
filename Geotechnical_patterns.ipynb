{
  "nbformat": 4,
  "nbformat_minor": 0,
  "metadata": {
    "colab": {
      "provenance": [],
      "authorship_tag": "ABX9TyM4QDmrzY3UHdiHkHY57b9C"
    },
    "kernelspec": {
      "name": "python3",
      "display_name": "Python 3"
    },
    "language_info": {
      "name": "python"
    }
  },
  "cells": [
    {
      "cell_type": "code",
      "execution_count": 24,
      "metadata": {
        "id": "hwb9n8B3UAgT"
      },
      "outputs": [],
      "source": [
        "import numpy as np\n",
        "import pandas as pd\n",
        "import seaborn as sns\n",
        "import matplotlib.pyplot as plt\n",
        "\n",
        "from sklearn.impute import KNNImputer\n",
        "from sklearn.impute import MissingIndicator\n",
        "from sklearn import preprocessing\n",
        "#%pylab inline"
      ]
    },
    {
      "cell_type": "code",
      "source": [
        "ID='1JweHYY03X9p8mU4TkMJhI6MUiqZziKMJaTqexgLawNc'\n",
        "sheet_url=\"https://docs.google.com/spreadsheets/d/1JweHYY03X9p8mU4TkMJhI6MUiqZziKMJaTqexgLawNc/edit#gid=1744952440\"\n",
        "url_1 = sheet_url.replace('/edit#gid=', '/export?format=csv&gid=')\n",
        "raw=pd.read_csv(url_1)\n",
        "raw.rename(columns={'Depth of the sole layer, m':'Depth, m','Power of the sole layer, m':'Thickness, m', 'Code':'Code of soil', 'Description':'Soil description'}, inplace=True)\n",
        "print(raw.info())"
      ],
      "metadata": {
        "colab": {
          "base_uri": "https://localhost:8080/"
        },
        "id": "9UE3JcKMUBxU",
        "outputId": "002d5c86-d06f-4b3f-9ccc-0d0389e50414"
      },
      "execution_count": 25,
      "outputs": [
        {
          "output_type": "stream",
          "name": "stdout",
          "text": [
            "<class 'pandas.core.frame.DataFrame'>\n",
            "RangeIndex: 593 entries, 0 to 592\n",
            "Data columns (total 7 columns):\n",
            " #   Column            Non-Null Count  Dtype  \n",
            "---  ------            --------------  -----  \n",
            " 0   km                593 non-null    int64  \n",
            " 1   Picket            593 non-null    int64  \n",
            " 2   Rider, m          593 non-null    float64\n",
            " 3   Depth, m          593 non-null    float64\n",
            " 4   Power, m          593 non-null    float64\n",
            " 5   Code of soil      593 non-null    int64  \n",
            " 6   Soil description  591 non-null    object \n",
            "dtypes: float64(3), int64(3), object(1)\n",
            "memory usage: 32.6+ KB\n",
            "None\n"
          ]
        }
      ]
    },
    {
      "cell_type": "code",
      "source": [
        "df=raw.copy()\n",
        "df['Distance, m']=df['Picket']+df['Rider, m']*0.01\n",
        "raw.describe()"
      ],
      "metadata": {
        "colab": {
          "base_uri": "https://localhost:8080/",
          "height": 300
        },
        "id": "SgNg-epFUFZW",
        "outputId": "47ea7780-e06d-4aae-b21d-0081218e11b3"
      },
      "execution_count": 26,
      "outputs": [
        {
          "output_type": "execute_result",
          "data": {
            "text/plain": [
              "               km       Picket    Rider, m    Depth, m    Power, m  \\\n",
              "count  593.000000   593.000000  593.000000  593.000000  593.000000   \n",
              "mean   346.504216  3469.895447   52.656627    6.377909    2.259865   \n",
              "std      4.461214    44.746461   25.219520    4.861157    1.964020   \n",
              "min    340.000000  3403.000000    0.000000    0.000000    0.000000   \n",
              "25%    343.000000  3434.000000   40.000000    1.900000    0.900000   \n",
              "50%    346.000000  3466.000000   56.000000    5.000000    1.700000   \n",
              "75%    349.000000  3497.000000   66.000000   11.200000    2.900000   \n",
              "max    358.000000  3589.000000   96.000000   17.000000   10.500000   \n",
              "\n",
              "       Code of soil  \n",
              "count    593.000000  \n",
              "mean     375.873524  \n",
              "std      249.829913  \n",
              "min        0.000000  \n",
              "25%      205.000000  \n",
              "50%      307.000000  \n",
              "75%      448.000000  \n",
              "max      931.000000  "
            ],
            "text/html": [
              "\n",
              "  <div id=\"df-ed11ebfa-eb50-4ac3-bdb3-b66879ebd22a\" class=\"colab-df-container\">\n",
              "    <div>\n",
              "<style scoped>\n",
              "    .dataframe tbody tr th:only-of-type {\n",
              "        vertical-align: middle;\n",
              "    }\n",
              "\n",
              "    .dataframe tbody tr th {\n",
              "        vertical-align: top;\n",
              "    }\n",
              "\n",
              "    .dataframe thead th {\n",
              "        text-align: right;\n",
              "    }\n",
              "</style>\n",
              "<table border=\"1\" class=\"dataframe\">\n",
              "  <thead>\n",
              "    <tr style=\"text-align: right;\">\n",
              "      <th></th>\n",
              "      <th>km</th>\n",
              "      <th>Picket</th>\n",
              "      <th>Rider, m</th>\n",
              "      <th>Depth, m</th>\n",
              "      <th>Power, m</th>\n",
              "      <th>Code of soil</th>\n",
              "    </tr>\n",
              "  </thead>\n",
              "  <tbody>\n",
              "    <tr>\n",
              "      <th>count</th>\n",
              "      <td>593.000000</td>\n",
              "      <td>593.000000</td>\n",
              "      <td>593.000000</td>\n",
              "      <td>593.000000</td>\n",
              "      <td>593.000000</td>\n",
              "      <td>593.000000</td>\n",
              "    </tr>\n",
              "    <tr>\n",
              "      <th>mean</th>\n",
              "      <td>346.504216</td>\n",
              "      <td>3469.895447</td>\n",
              "      <td>52.656627</td>\n",
              "      <td>6.377909</td>\n",
              "      <td>2.259865</td>\n",
              "      <td>375.873524</td>\n",
              "    </tr>\n",
              "    <tr>\n",
              "      <th>std</th>\n",
              "      <td>4.461214</td>\n",
              "      <td>44.746461</td>\n",
              "      <td>25.219520</td>\n",
              "      <td>4.861157</td>\n",
              "      <td>1.964020</td>\n",
              "      <td>249.829913</td>\n",
              "    </tr>\n",
              "    <tr>\n",
              "      <th>min</th>\n",
              "      <td>340.000000</td>\n",
              "      <td>3403.000000</td>\n",
              "      <td>0.000000</td>\n",
              "      <td>0.000000</td>\n",
              "      <td>0.000000</td>\n",
              "      <td>0.000000</td>\n",
              "    </tr>\n",
              "    <tr>\n",
              "      <th>25%</th>\n",
              "      <td>343.000000</td>\n",
              "      <td>3434.000000</td>\n",
              "      <td>40.000000</td>\n",
              "      <td>1.900000</td>\n",
              "      <td>0.900000</td>\n",
              "      <td>205.000000</td>\n",
              "    </tr>\n",
              "    <tr>\n",
              "      <th>50%</th>\n",
              "      <td>346.000000</td>\n",
              "      <td>3466.000000</td>\n",
              "      <td>56.000000</td>\n",
              "      <td>5.000000</td>\n",
              "      <td>1.700000</td>\n",
              "      <td>307.000000</td>\n",
              "    </tr>\n",
              "    <tr>\n",
              "      <th>75%</th>\n",
              "      <td>349.000000</td>\n",
              "      <td>3497.000000</td>\n",
              "      <td>66.000000</td>\n",
              "      <td>11.200000</td>\n",
              "      <td>2.900000</td>\n",
              "      <td>448.000000</td>\n",
              "    </tr>\n",
              "    <tr>\n",
              "      <th>max</th>\n",
              "      <td>358.000000</td>\n",
              "      <td>3589.000000</td>\n",
              "      <td>96.000000</td>\n",
              "      <td>17.000000</td>\n",
              "      <td>10.500000</td>\n",
              "      <td>931.000000</td>\n",
              "    </tr>\n",
              "  </tbody>\n",
              "</table>\n",
              "</div>\n",
              "    <div class=\"colab-df-buttons\">\n",
              "\n",
              "  <div class=\"colab-df-container\">\n",
              "    <button class=\"colab-df-convert\" onclick=\"convertToInteractive('df-ed11ebfa-eb50-4ac3-bdb3-b66879ebd22a')\"\n",
              "            title=\"Convert this dataframe to an interactive table.\"\n",
              "            style=\"display:none;\">\n",
              "\n",
              "  <svg xmlns=\"http://www.w3.org/2000/svg\" height=\"24px\" viewBox=\"0 -960 960 960\">\n",
              "    <path d=\"M120-120v-720h720v720H120Zm60-500h600v-160H180v160Zm220 220h160v-160H400v160Zm0 220h160v-160H400v160ZM180-400h160v-160H180v160Zm440 0h160v-160H620v160ZM180-180h160v-160H180v160Zm440 0h160v-160H620v160Z\"/>\n",
              "  </svg>\n",
              "    </button>\n",
              "\n",
              "  <style>\n",
              "    .colab-df-container {\n",
              "      display:flex;\n",
              "      gap: 12px;\n",
              "    }\n",
              "\n",
              "    .colab-df-convert {\n",
              "      background-color: #E8F0FE;\n",
              "      border: none;\n",
              "      border-radius: 50%;\n",
              "      cursor: pointer;\n",
              "      display: none;\n",
              "      fill: #1967D2;\n",
              "      height: 32px;\n",
              "      padding: 0 0 0 0;\n",
              "      width: 32px;\n",
              "    }\n",
              "\n",
              "    .colab-df-convert:hover {\n",
              "      background-color: #E2EBFA;\n",
              "      box-shadow: 0px 1px 2px rgba(60, 64, 67, 0.3), 0px 1px 3px 1px rgba(60, 64, 67, 0.15);\n",
              "      fill: #174EA6;\n",
              "    }\n",
              "\n",
              "    .colab-df-buttons div {\n",
              "      margin-bottom: 4px;\n",
              "    }\n",
              "\n",
              "    [theme=dark] .colab-df-convert {\n",
              "      background-color: #3B4455;\n",
              "      fill: #D2E3FC;\n",
              "    }\n",
              "\n",
              "    [theme=dark] .colab-df-convert:hover {\n",
              "      background-color: #434B5C;\n",
              "      box-shadow: 0px 1px 3px 1px rgba(0, 0, 0, 0.15);\n",
              "      filter: drop-shadow(0px 1px 2px rgba(0, 0, 0, 0.3));\n",
              "      fill: #FFFFFF;\n",
              "    }\n",
              "  </style>\n",
              "\n",
              "    <script>\n",
              "      const buttonEl =\n",
              "        document.querySelector('#df-ed11ebfa-eb50-4ac3-bdb3-b66879ebd22a button.colab-df-convert');\n",
              "      buttonEl.style.display =\n",
              "        google.colab.kernel.accessAllowed ? 'block' : 'none';\n",
              "\n",
              "      async function convertToInteractive(key) {\n",
              "        const element = document.querySelector('#df-ed11ebfa-eb50-4ac3-bdb3-b66879ebd22a');\n",
              "        const dataTable =\n",
              "          await google.colab.kernel.invokeFunction('convertToInteractive',\n",
              "                                                    [key], {});\n",
              "        if (!dataTable) return;\n",
              "\n",
              "        const docLinkHtml = 'Like what you see? Visit the ' +\n",
              "          '<a target=\"_blank\" href=https://colab.research.google.com/notebooks/data_table.ipynb>data table notebook</a>'\n",
              "          + ' to learn more about interactive tables.';\n",
              "        element.innerHTML = '';\n",
              "        dataTable['output_type'] = 'display_data';\n",
              "        await google.colab.output.renderOutput(dataTable, element);\n",
              "        const docLink = document.createElement('div');\n",
              "        docLink.innerHTML = docLinkHtml;\n",
              "        element.appendChild(docLink);\n",
              "      }\n",
              "    </script>\n",
              "  </div>\n",
              "\n",
              "\n",
              "<div id=\"df-4b1907c2-c6d8-4277-8612-b0639fcb3867\">\n",
              "  <button class=\"colab-df-quickchart\" onclick=\"quickchart('df-4b1907c2-c6d8-4277-8612-b0639fcb3867')\"\n",
              "            title=\"Suggest charts\"\n",
              "            style=\"display:none;\">\n",
              "\n",
              "<svg xmlns=\"http://www.w3.org/2000/svg\" height=\"24px\"viewBox=\"0 0 24 24\"\n",
              "     width=\"24px\">\n",
              "    <g>\n",
              "        <path d=\"M19 3H5c-1.1 0-2 .9-2 2v14c0 1.1.9 2 2 2h14c1.1 0 2-.9 2-2V5c0-1.1-.9-2-2-2zM9 17H7v-7h2v7zm4 0h-2V7h2v10zm4 0h-2v-4h2v4z\"/>\n",
              "    </g>\n",
              "</svg>\n",
              "  </button>\n",
              "\n",
              "<style>\n",
              "  .colab-df-quickchart {\n",
              "      --bg-color: #E8F0FE;\n",
              "      --fill-color: #1967D2;\n",
              "      --hover-bg-color: #E2EBFA;\n",
              "      --hover-fill-color: #174EA6;\n",
              "      --disabled-fill-color: #AAA;\n",
              "      --disabled-bg-color: #DDD;\n",
              "  }\n",
              "\n",
              "  [theme=dark] .colab-df-quickchart {\n",
              "      --bg-color: #3B4455;\n",
              "      --fill-color: #D2E3FC;\n",
              "      --hover-bg-color: #434B5C;\n",
              "      --hover-fill-color: #FFFFFF;\n",
              "      --disabled-bg-color: #3B4455;\n",
              "      --disabled-fill-color: #666;\n",
              "  }\n",
              "\n",
              "  .colab-df-quickchart {\n",
              "    background-color: var(--bg-color);\n",
              "    border: none;\n",
              "    border-radius: 50%;\n",
              "    cursor: pointer;\n",
              "    display: none;\n",
              "    fill: var(--fill-color);\n",
              "    height: 32px;\n",
              "    padding: 0;\n",
              "    width: 32px;\n",
              "  }\n",
              "\n",
              "  .colab-df-quickchart:hover {\n",
              "    background-color: var(--hover-bg-color);\n",
              "    box-shadow: 0 1px 2px rgba(60, 64, 67, 0.3), 0 1px 3px 1px rgba(60, 64, 67, 0.15);\n",
              "    fill: var(--button-hover-fill-color);\n",
              "  }\n",
              "\n",
              "  .colab-df-quickchart-complete:disabled,\n",
              "  .colab-df-quickchart-complete:disabled:hover {\n",
              "    background-color: var(--disabled-bg-color);\n",
              "    fill: var(--disabled-fill-color);\n",
              "    box-shadow: none;\n",
              "  }\n",
              "\n",
              "  .colab-df-spinner {\n",
              "    border: 2px solid var(--fill-color);\n",
              "    border-color: transparent;\n",
              "    border-bottom-color: var(--fill-color);\n",
              "    animation:\n",
              "      spin 1s steps(1) infinite;\n",
              "  }\n",
              "\n",
              "  @keyframes spin {\n",
              "    0% {\n",
              "      border-color: transparent;\n",
              "      border-bottom-color: var(--fill-color);\n",
              "      border-left-color: var(--fill-color);\n",
              "    }\n",
              "    20% {\n",
              "      border-color: transparent;\n",
              "      border-left-color: var(--fill-color);\n",
              "      border-top-color: var(--fill-color);\n",
              "    }\n",
              "    30% {\n",
              "      border-color: transparent;\n",
              "      border-left-color: var(--fill-color);\n",
              "      border-top-color: var(--fill-color);\n",
              "      border-right-color: var(--fill-color);\n",
              "    }\n",
              "    40% {\n",
              "      border-color: transparent;\n",
              "      border-right-color: var(--fill-color);\n",
              "      border-top-color: var(--fill-color);\n",
              "    }\n",
              "    60% {\n",
              "      border-color: transparent;\n",
              "      border-right-color: var(--fill-color);\n",
              "    }\n",
              "    80% {\n",
              "      border-color: transparent;\n",
              "      border-right-color: var(--fill-color);\n",
              "      border-bottom-color: var(--fill-color);\n",
              "    }\n",
              "    90% {\n",
              "      border-color: transparent;\n",
              "      border-bottom-color: var(--fill-color);\n",
              "    }\n",
              "  }\n",
              "</style>\n",
              "\n",
              "  <script>\n",
              "    async function quickchart(key) {\n",
              "      const quickchartButtonEl =\n",
              "        document.querySelector('#' + key + ' button');\n",
              "      quickchartButtonEl.disabled = true;  // To prevent multiple clicks.\n",
              "      quickchartButtonEl.classList.add('colab-df-spinner');\n",
              "      try {\n",
              "        const charts = await google.colab.kernel.invokeFunction(\n",
              "            'suggestCharts', [key], {});\n",
              "      } catch (error) {\n",
              "        console.error('Error during call to suggestCharts:', error);\n",
              "      }\n",
              "      quickchartButtonEl.classList.remove('colab-df-spinner');\n",
              "      quickchartButtonEl.classList.add('colab-df-quickchart-complete');\n",
              "    }\n",
              "    (() => {\n",
              "      let quickchartButtonEl =\n",
              "        document.querySelector('#df-4b1907c2-c6d8-4277-8612-b0639fcb3867 button');\n",
              "      quickchartButtonEl.style.display =\n",
              "        google.colab.kernel.accessAllowed ? 'block' : 'none';\n",
              "    })();\n",
              "  </script>\n",
              "</div>\n",
              "    </div>\n",
              "  </div>\n"
            ]
          },
          "metadata": {},
          "execution_count": 26
        }
      ]
    },
    {
      "cell_type": "code",
      "source": [
        "df['Soil type'] = pd.cut(df['Code of soil'],bins=[0,60,80, 100, 200, 300, 400, 900, 1000], labels=['Почва','Мох','Вода','Глина','Суглинок','Супесь','Песок','Торф'])"
      ],
      "metadata": {
        "id": "xHShdj3dUTfV"
      },
      "execution_count": 27,
      "outputs": []
    },
    {
      "cell_type": "code",
      "source": [
        "plt.figure(figsize=(10, 4))\n",
        "g=sns.countplot(data=df, x='Code of soil', hue='Soil type' )\n",
        "plt.xlabel('Код грунта')\n",
        "plt.ylabel('Частота')\n",
        "# Rotate x-axis labels if needed\n",
        "plt.xticks(rotation=90)\n",
        "plt.show()"
      ],
      "metadata": {
        "colab": {
          "base_uri": "https://localhost:8080/",
          "height": 400
        },
        "id": "pv27gTo1Uzh2",
        "outputId": "3b751436-e17f-4c0f-e783-4b34453beffb"
      },
      "execution_count": 33,
      "outputs": [
        {
          "output_type": "display_data",
          "data": {
            "text/plain": [
              "<Figure size 1000x400 with 1 Axes>"
            ],
            "image/png": "[encoded data removed]"
          },
          "metadata": {}
        }
      ]
    },
    {
      "cell_type": "code",
      "source": [
        "g=sns.displot(df, x=\"Distance, m\", y=\"Depth, m\", hue='Soil type', palette='inferno') #, kind=\"kde\")\n",
        "g._legend.set_title('Тип грунта')\n",
        "plt.gca().invert_yaxis()\n",
        "plt.xlabel('Трасса, км')\n",
        "plt.ylabel('Глубина, м')"
      ],
      "metadata": {
        "colab": {
          "base_uri": "https://localhost:8080/",
          "height": 523
        },
        "id": "2brt-jC_UUl7",
        "outputId": "dd8a84a1-00cc-441c-d0eb-b696fb54b172"
      },
      "execution_count": 29,
      "outputs": [
        {
          "output_type": "execute_result",
          "data": {
            "text/plain": [
              "Text(11.872736111111111, 0.5, 'Глубина, м')"
            ]
          },
          "metadata": {},
          "execution_count": 29
        },
        {
          "output_type": "display_data",
          "data": {
            "text/plain": [
              "<Figure size 619.625x500 with 1 Axes>"
            ],
            "image/png": "[encoded data removed]"
          },
          "metadata": {}
        }
      ]
    },
    {
      "cell_type": "code",
      "source": [
        "keyword_values = {\n",
        "    'водой': 80,\n",
        "    'вода': 80,\n",
        "    'Вода' : 80,\n",
        "    'водо': 85,\n",
        "    'твердомерзлый':90,\n",
        "    'твердомерзлая': 90,\n",
        "    'пластичномерзлый': 93,\n",
        "    'пластичномерзлая': 93,\n",
        "    'льдистый': 95,\n",
        "    'льдистая': 95,\n",
        "    'лед': 97,\n",
        "    'крио': 98\n",
        "}\n",
        "\n",
        "# Update the 'Water' column based on the specific keywords\n",
        "def assign_water_value(description):\n",
        "    for keyword, value in keyword_values.items():\n",
        "        if keyword in description:\n",
        "            return value\n",
        "    return 0  # Assign 0 if no keyword is found\n",
        "\n",
        "df['Water_cat'] = df['Soil description'].apply(lambda x: assign_water_value(x) if isinstance(x, str) else 0)"
      ],
      "metadata": {
        "id": "1nlrhGjSUirb"
      },
      "execution_count": 30,
      "outputs": []
    },
    {
      "cell_type": "code",
      "source": [
        "sns.color_palette(\"mako\", as_cmap=True)\n",
        "# Filter the data where Water_cat is not equal to 0\n",
        "filtered_data = df[df['Water_cat'] != 0]\n",
        "g = sns.displot(data=filtered_data, x=\"Distance, m\", y=\"Depth, m\", hue='Water_cat') #, palette=\"Blue\")\n",
        "g._legend.set_title('Вода и лед')\n",
        "plt.gca().invert_yaxis()\n",
        "plt.xlabel('Трасса, км')\n",
        "plt.ylabel('Глубина, м')"
      ],
      "metadata": {
        "colab": {
          "base_uri": "https://localhost:8080/",
          "height": 523
        },
        "id": "Od0bXGbIUoDb",
        "outputId": "a0a40a22-dff9-4c56-f1e8-a025141a85dd"
      },
      "execution_count": 31,
      "outputs": [
        {
          "output_type": "execute_result",
          "data": {
            "text/plain": [
              "Text(8.273827160493825, 0.5, 'Глубина, м')"
            ]
          },
          "metadata": {},
          "execution_count": 31
        },
        {
          "output_type": "display_data",
          "data": {
            "text/plain": [
              "<Figure size 581.111x500 with 1 Axes>"
            ],
            "image/png": "[encoded data removed]"
          },
          "metadata": {}
        }
      ]
    }
  ]
}